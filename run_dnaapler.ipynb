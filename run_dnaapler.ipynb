{
  "cells": [
    {
      "cell_type": "markdown",
      "metadata": {
        "id": "view-in-github",
        "colab_type": "text"
      },
      "source": [
        "<a href=\"https://colab.research.google.com/github/gbouras13/dnaapler/blob/main/run_dnaapler.ipynb\" target=\"_parent\"><img src=\"https://colab.research.google.com/assets/colab-badge.svg\" alt=\"Open In Colab\"/></a>"
      ]
    },
    {
      "cell_type": "markdown",
      "metadata": {
        "id": "QGd2GEI3N-02"
      },
      "source": [
        "##Dnaapler\n",
        "\n",
        "[dnaapler](https://github.com/gbouras13/dnaapler)   is a simple tool that reorients complete circular microbial genomes.\n",
        "\n",
        "This notebook can be used to run the dnaapler all command, which should suffice for most users - if you want more advanced commands, please use a local install.\n",
        "\n",
        "\n",
        "**To run the code cells, press the play buttons on the top left of each block**\n",
        "\n",
        "Main Instructions\n",
        "\n",
        "* Cell 1 install dnaapler. This must be run first.\n",
        "* Once Cell 1 has  been run, you can run Cell 2 to run dnaapler as many times as you wish.\n",
        "\n",
        "Other instructions\n",
        "\n",
        "* Please make sure you change the runtime to CPU (GPU is not required).\n",
        "* To do this, go to the top toolbar, then to Runtime -> Change runtime type -> Hardware accelerator\n",
        "* Click on the folder icon to the left and use file upload button (with the upwards facing arrow)\n"
      ]
    },
    {
      "cell_type": "code",
      "execution_count": null,
      "metadata": {
        "colab": {
          "base_uri": "https://localhost:8080/"
        },
        "id": "Ii39RG8eOZUx",
        "outputId": "566baba2-5c08-42f1-85b9-b0601a7d2907"
      },
      "outputs": [
        {
          "output_type": "stream",
          "name": "stdout",
          "text": [
            "3.10\n",
            "CPU times: user 1.06 ms, sys: 0 ns, total: 1.06 ms\n",
            "Wall time: 1.07 ms\n"
          ]
        }
      ],
      "source": [
        "#@title 1. Install dnaapler\n",
        "\n",
        "#@markdown This cell installs dnaapler.\n",
        "\n",
        "%%time\n",
        "import os\n",
        "from sys import version_info\n",
        "python_version = f\"{version_info.major}.{version_info.minor}\"\n",
        "PYTHON_VERSION = python_version\n",
        "DNAAPLER_VERSION = \"0.8.1\"\n",
        "\n",
        "\n",
        "print(PYTHON_VERSION)\n",
        "\n",
        "if not os.path.isfile(\"MAMBA_READY\"):\n",
        "  print(\"installing mamba...\")\n",
        "  os.system(\"wget -qnc https://github.com/conda-forge/miniforge/releases/latest/download/Mambaforge-Linux-x86_64.sh\")\n",
        "  os.system(\"bash Mambaforge-Linux-x86_64.sh -bfp /usr/local\")\n",
        "  os.system(\"mamba config --set auto_update_conda false\")\n",
        "  os.system(\"touch MAMBA_READY\")\n",
        "\n",
        "if not os.path.isfile(\"DNAAPLER_READY\"):\n",
        "  print(\"installing dnaapler ...\")\n",
        "  os.system(f\"mamba install -y -c conda-forge -c bioconda python='{PYTHON_VERSION}' dnaapler=={DNAAPLER_VERSION}\")\n",
        "  os.system(\"touch DNAAPLER_READY\")\n"
      ]
    },
    {
      "cell_type": "code",
      "execution_count": null,
      "metadata": {
        "colab": {
          "base_uri": "https://localhost:8080/"
        },
        "id": "tfltpbZ_QLfZ",
        "outputId": "9a2f208f-ae79-4616-8d57-3189273bec8e"
      },
      "outputs": [
        {
          "output_type": "stream",
          "name": "stdout",
          "text": [
            "Input file NC_007458.fasta exists\n",
            "Running dnaapler\n",
            "dnaapler completed successfully.\n",
            "Your output is in output_dnaapler.\n",
            "Zipping the output directory so you can download it all in one go.\n",
            "Output directory has been zipped to output_dnaapler.zip\n",
            "CPU times: user 50 ms, sys: 47 µs, total: 50.1 ms\n",
            "Wall time: 5.49 s\n"
          ]
        }
      ],
      "source": [
        "#@title 2. Run dnaapler all\n",
        "\n",
        "#@markdown First, upload your genomes as a nucleotide input FASTA file\n",
        "\n",
        "#@markdown Click on the folder icon to the left and use the file upload button.\n",
        "\n",
        "#@markdown Once it is uploaded, write the file name in the INPUT_FILE field on the right.\n",
        "\n",
        "#@markdown Then provide a directory for dnaapler's output using DNAAPLER_OUT_DIR.\n",
        "#@markdown The default is 'output_dnaapler'.\n",
        "\n",
        "#@markdown You can click FORCE to overwrite the output directory.\n",
        "#@markdown This may be useful if your earlier dnaapler run has crashed for whatever reason.\n",
        "#@markdown You can also change the evalue with EVALUE. Otherwise it defaults to 1e-10.\n",
        "\n",
        "#@markdown The results of dnaapler will be in the folder icon on the left hand panel.\n",
        "#@markdown Additionally, it will be zipped so you can download the whole directory.\n",
        "\n",
        "#@markdown The file to download is DNAAPLER_OUT_DIR.zip, where DNAAPLER_OUT_DIR is what you provided\n",
        "\n",
        "#@markdown If you do not see the output directory,\n",
        "#@markdown refresh the window by either clicking the folder with the refresh icon below \"Files\"\n",
        "#@markdown or double click and select \"Refresh\".\n",
        "\n",
        "\n",
        "%%time\n",
        "import os\n",
        "import sys\n",
        "import subprocess\n",
        "import zipfile\n",
        "INPUT_FILE = '' #@param {type:\"string\"}\n",
        "\n",
        "if os.path.exists(INPUT_FILE):\n",
        "    print(f\"Input file {INPUT_FILE} exists\")\n",
        "else:\n",
        "    print(f\"Error: File {INPUT_FILE} does not exist\")\n",
        "    print(f\"Please check the spelling and that you have uploaded it correctly\")\n",
        "    sys.exit(1)\n",
        "\n",
        "DNAAPLER_OUT_DIR = 'output_dnaapler'  #@param {type:\"string\"}\n",
        "DNAAPLER_PREFIX = 'dnaapler'  #@param {type:\"string\"}\n",
        "EVALUE = '1e-10'  #@param {type:\"string\"}\n",
        "allowed_databases = ['all', 'dnaa', 'repa', 'terl', 'dnaa,repa', 'repa,terl']\n",
        "\n",
        "\n",
        "FORCE = True  #@param {type:\"boolean\"}\n",
        "\n",
        "\n",
        "# Construct the command\n",
        "command = f\"dnaapler all -i {INPUT_FILE} -t 4 -o {DNAAPLER_OUT_DIR} -p {DNAAPLER_PREFIX}  -e {EVALUE}\"\n",
        "\n",
        "if FORCE is True:\n",
        "  command = f\"{command} -f\"\n",
        "\n",
        "\n",
        "\n",
        "# Execute the command\n",
        "try:\n",
        "    print(\"Running dnaapler\")\n",
        "    subprocess.run(command, shell=True, check=True)\n",
        "    print(\"dnaapler completed successfully.\")\n",
        "    print(f\"Your output is in {DNAAPLER_OUT_DIR}.\")\n",
        "    print(f\"Zipping the output directory so you can download it all in one go.\")\n",
        "\n",
        "    zip_filename = f\"{DNAAPLER_OUT_DIR}.zip\"\n",
        "\n",
        "    # Zip the contents of the output directory\n",
        "    with zipfile.ZipFile(zip_filename, 'w', zipfile.ZIP_DEFLATED) as zipf:\n",
        "        for root, dirs, files in os.walk(DNAAPLER_OUT_DIR):\n",
        "            for file in files:\n",
        "                zipf.write(os.path.join(root, file), os.path.relpath(os.path.join(root, file), DNAAPLER_OUT_DIR))\n",
        "    print(f\"Output directory has been zipped to {zip_filename}\")\n",
        "\n",
        "\n",
        "except subprocess.CalledProcessError as e:\n",
        "    print(f\"Error occurred: {e}\")\n",
        "\n",
        "\n",
        "\n",
        "\n",
        "\n",
        "\n"
      ]
    }
  ],
  "metadata": {
    "colab": {
      "provenance": [],
      "include_colab_link": true
    },
    "kernelspec": {
      "display_name": "Python 3",
      "name": "python3"
    },
    "language_info": {
      "name": "python"
    }
  },
  "nbformat": 4,
  "nbformat_minor": 0
}